{
    "cells": [{
            "cell_type": "markdown",
            "metadata": {},
            "source": [
                "# Tweepy"
            ]
        },
        {
            "cell_type": "markdown",
            "metadata": {},
            "source": [
                "We'll use the [Tweepy](http://docs.tweepy.org/en/v3.5.0/streaming_how_to.html) package to access Twitter Streaming API data in real time."
            ]
        },
        {
            "cell_type": "code",
            "execution_count": null,
            "metadata": {
                "ExecuteTime": {
                    "end_time": "2018-01-29T11:04:58.199437Z",
                    "start_time": "2018-01-29T11:04:58.089001Z"
                }
            },
            "outputs": [],
            "source": [
                "import tweepy\n",
                "import os\n",
                "import json"
            ]
        },
        {
            "cell_type": "markdown",
            "metadata": {},
            "source": [
                "Before doing anything, we'll need to load our [Twitter App](https://apps.twitter.com) credentials."
            ]
        },
        {
            "cell_type": "code",
            "execution_count": null,
            "metadata": {
                "ExecuteTime": {
                    "end_time": "2018-01-29T11:04:59.004876Z",
                    "start_time": "2018-01-29T11:04:58.999350Z"
                }
            },
            "outputs": [],
            "source": [
                "access_token = os.getenv('ACCESS_TOKEN')\n",
                "access_token_secret = os.getenv('ACCESS_TOKEN_SECRET')\n",
                "consumer_key = os.getenv('CONSUMER_KEY')\n",
                "consumer_secret = os.getenv('CONSUMER_SECRET')"
            ]
        },
        {
            "cell_type": "markdown",
            "metadata": {},
            "source": [
                "We need to create a class that handles the stream. "
            ]
        },
        {
            "cell_type": "code",
            "execution_count": null,
            "metadata": {
                "ExecuteTime": {
                    "end_time": "2018-01-29T11:04:59.787789Z",
                    "start_time": "2018-01-29T11:04:59.782778Z"
                }
            },
            "outputs": [],
            "source": [
                "class BufferTweetsStreamListener(tweepy.StreamListener):\n",
                "    def on_status(self, status):\n",
                "        profile = status.author.screen_name\n",
                "        tweet = status.text\n",
                "        print(\"Tweet from @{}: {}...\".format(profile, tweet))\n",
                "        return status"
            ]
        },
        {
            "cell_type": "markdown",
            "metadata": {},
            "source": [
                "Once we have it we can start using Twitter API!"
            ]
        },
        {
            "cell_type": "code",
            "execution_count": null,
            "metadata": {
                "ExecuteTime": {
                    "end_time": "2018-01-29T11:05:00.597423Z",
                    "start_time": "2018-01-29T11:05:00.593103Z"
                }
            },
            "outputs": [],
            "source": [
                "auth = tweepy.auth.OAuthHandler(consumer_key, consumer_secret)\n",
                "auth.set_access_token(access_token, access_token_secret)\n",
                "api = tweepy.API(auth)"
            ]
        },
        {
            "cell_type": "code",
            "execution_count": null,
            "metadata": {
                "ExecuteTime": {
                    "end_time": "2018-01-29T11:05:07.743601Z",
                    "start_time": "2018-01-29T11:05:01.224684Z"
                }
            },
            "outputs": [],
            "source": [
                "buffer_tweets_listener = BufferTweetsStreamListener()\n",
                "buffer_tweets_stream = tweepy.Stream(auth=api.auth, listener=buffer_tweets_listener)\n",
                "buffer_tweets_stream.filter(track=['python'])"
            ]
        },
        {
            "cell_type": "markdown",
            "metadata": {},
            "source": [
                "We can also add more transformations."
            ]
        },
        {
            "cell_type": "code",
            "execution_count": null,
            "metadata": {
                "ExecuteTime": {
                    "end_time": "2018-01-29T11:05:10.523138Z",
                    "start_time": "2018-01-29T11:05:10.508010Z"
                }
            },
            "outputs": [],
            "source": [
                "class BufferTweetsStreamListener(tweepy.StreamListener):\n",
                "    def on_status(self, status):\n",
                "        profile = status.author.screen_name\n",
                "        tweet = status.text\n",
                "        print(\"Tweet from @{}: {}...\".format(profile, tweet))\n",
                "        \n",
                "        process(status)\n",
                "            \n",
                "        return status\n",
                "    \n",
                "    def on_error(self, status_code):\n",
                "        # https://developer.twitter.com/en/docs/basics/response-codes\n",
                "        print(status_code)\n",
                "    \n",
                "def process(status):\n",
                "    profile = status.author.screen_name\n",
                "    tweet = status.text\n",
                "    print(\"Tweet from @{}: {}...\".format(profile, tweet))\n",
                "    polarity = TextBlob(tweet).sentiment.polarity\n",
                "    print(\"Polarity: {}\".format(polarity))\n",
                "    print()"
            ]
        }
    ],
    "metadata": {
        "kernelspec": {
            "display_name": "Python 3",
            "language": "python",
            "name": "python3"
        },
        "language_info": {
            "codemirror_mode": {
                "name": "ipython",
                "version": 3
            },
            "file_extension": ".py",
            "mimetype": "text/x-python",
            "name": "python",
            "nbconvert_exporter": "python",
            "pygments_lexer": "ipython3",
            "version": "3.6.3"
        }
    },
    "nbformat": 4,
    "nbformat_minor": 2
}