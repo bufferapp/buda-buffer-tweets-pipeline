{
 "cells": [
  {
   "cell_type": "code",
   "execution_count": 2,
   "metadata": {
    "ExecuteTime": {
     "end_time": "2018-01-29T10:16:38.153280Z",
     "start_time": "2018-01-29T10:16:38.065137Z"
    }
   },
   "outputs": [],
   "source": [
    "import boto3"
   ]
  },
  {
   "cell_type": "code",
   "execution_count": 7,
   "metadata": {
    "ExecuteTime": {
     "end_time": "2018-01-29T10:17:06.846738Z",
     "start_time": "2018-01-29T10:17:06.835375Z"
    }
   },
   "outputs": [],
   "source": [
    "client = boto3.client('firehose')"
   ]
  },
  {
   "cell_type": "markdown",
   "metadata": {},
   "source": [
    "https://boto3.readthedocs.io/en/latest/reference/services/firehose.html#Firehose.Client.put_record_batch"
   ]
  },
  {
   "cell_type": "code",
   "execution_count": 8,
   "metadata": {
    "ExecuteTime": {
     "end_time": "2018-01-29T10:18:06.265425Z",
     "start_time": "2018-01-29T10:18:05.683674Z"
    }
   },
   "outputs": [
    {
     "data": {
      "text/plain": [
       "{'DeliveryStreamNames': [],\n",
       " 'HasMoreDeliveryStreams': False,\n",
       " 'ResponseMetadata': {'HTTPHeaders': {'content-length': '57',\n",
       "   'content-type': 'application/x-amz-json-1.1',\n",
       "   'date': 'Mon, 29 Jan 2018 10:18:05 GMT',\n",
       "   'x-amz-id-2': 'WXudDoxcsvn6OYAC5Vw6eQPa0U40EH8QTACiNgEmnXNlFXukd7SxNMlZhXZwDJRQKkzUMdV4bd706R2p28Il6A==',\n",
       "   'x-amzn-requestid': 'b2605018-04dd-11e8-a4e1-d5b0ee4085d6'},\n",
       "  'HTTPStatusCode': 200,\n",
       "  'RequestId': 'b2605018-04dd-11e8-a4e1-d5b0ee4085d6',\n",
       "  'RetryAttempts': 0}}"
      ]
     },
     "execution_count": 8,
     "metadata": {},
     "output_type": "execute_result"
    }
   ],
   "source": [
    "client.list_delivery_streams()"
   ]
  }
 ],
 "metadata": {
  "kernelspec": {
   "display_name": "Python 3",
   "language": "python",
   "name": "python3"
  },
  "language_info": {
   "codemirror_mode": {
    "name": "ipython",
    "version": 3
   },
   "file_extension": ".py",
   "mimetype": "text/x-python",
   "name": "python",
   "nbconvert_exporter": "python",
   "pygments_lexer": "ipython3",
   "version": "3.6.3"
  }
 },
 "nbformat": 4,
 "nbformat_minor": 2
}
