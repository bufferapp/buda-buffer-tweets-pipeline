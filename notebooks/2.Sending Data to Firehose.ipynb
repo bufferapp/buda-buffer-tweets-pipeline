{
 "cells": [
  {
   "cell_type": "code",
   "execution_count": null,
   "metadata": {
    "ExecuteTime": {
     "end_time": "2018-01-29T10:16:38.153280Z",
     "start_time": "2018-01-29T10:16:38.065137Z"
    }
   },
   "outputs": [],
   "source": [
    "import boto3"
   ]
  },
  {
   "cell_type": "code",
   "execution_count": null,
   "metadata": {
    "ExecuteTime": {
     "end_time": "2018-01-29T10:17:06.846738Z",
     "start_time": "2018-01-29T10:17:06.835375Z"
    }
   },
   "outputs": [],
   "source": [
    "client = boto3.client('firehose')"
   ]
  },
  {
   "cell_type": "markdown",
   "metadata": {},
   "source": [
    "https://boto3.readthedocs.io/en/latest/reference/services/firehose.html#Firehose.Client.put_record_batch"
   ]
  },
  {
   "cell_type": "code",
   "execution_count": null,
   "metadata": {
    "ExecuteTime": {
     "end_time": "2018-01-29T10:18:06.265425Z",
     "start_time": "2018-01-29T10:18:05.683674Z"
    }
   },
   "outputs": [],
   "source": [
    "client.list_delivery_streams()"
   ]
  }
 ],
 "metadata": {
  "kernelspec": {
   "display_name": "Python 3",
   "language": "python",
   "name": "python3"
  },
  "language_info": {
   "codemirror_mode": {
    "name": "ipython",
    "version": 3
   },
   "file_extension": ".py",
   "mimetype": "text/x-python",
   "name": "python",
   "nbconvert_exporter": "python",
   "pygments_lexer": "ipython3",
   "version": "3.6.3"
  }
 },
 "nbformat": 4,
 "nbformat_minor": 2
}
